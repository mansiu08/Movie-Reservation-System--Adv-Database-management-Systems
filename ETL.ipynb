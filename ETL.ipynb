{
 "cells": [
  {
   "cell_type": "code",
   "execution_count": 1,
   "metadata": {},
   "outputs": [],
   "source": [
    "import pandas as pd\n",
    "from pyArango.connection import *\n",
    "import csv\n",
    "conn = Connection(arangoURL='http://localhost:8529', username='root', password='')\n"
   ]
  },
  {
   "cell_type": "code",
   "execution_count": 2,
   "metadata": {},
   "outputs": [],
   "source": [
    "df_movie = pd.read_csv(\"/Users/tanujverma/Desktop/NEU/ADBMS/ADBMS_project/Movie.csv\")\n",
    "df_Theatres = pd.read_csv(\"/Users/tanujverma/Desktop/NEU/ADBMS/ADBMS_project/Theatres.csv\")\n",
    "df_ShowTimes = pd.read_csv(\"/Users/tanujverma/Desktop/NEU/ADBMS/ADBMS_project/Showtimes.csv\")\n",
    "df_Reservations = pd.read_csv(\"/Users/tanujverma/Desktop/NEU/ADBMS/ADBMS_project/Reservations.csv\")\n",
    "df_Customers = pd.read_csv(\"/Users/tanujverma/Desktop/NEU/ADBMS/ADBMS_project/Customers.csv\")\n",
    "\n"
   ]
  },
  {
   "cell_type": "code",
   "execution_count": 3,
   "metadata": {},
   "outputs": [
    {
     "name": "stdout",
     "output_type": "stream",
     "text": [
      "Row and column counts before dropping null and duplicate values:\n",
      "df_movie: (45, 8)\n",
      "df_Theatres: (41, 6)\n",
      "df_ShowTimes: (43, 5)\n",
      "df_Reservations: (47, 5)\n",
      "df_Customers: (35, 7)\n",
      "\n",
      "Row and column counts after dropping null and duplicate values:\n",
      "df_movie: (45, 8)\n",
      "df_Theatres: (41, 6)\n",
      "df_ShowTimes: (43, 5)\n",
      "df_Reservations: (47, 5)\n",
      "df_Customers: (35, 7)\n"
     ]
    }
   ],
   "source": [
    "# Print row and column counts before dropping null and duplicate values\n",
    "print(\"Row and column counts before dropping null and duplicate values:\")\n",
    "print(\"df_movie:\", df_movie.shape)\n",
    "print(\"df_Theatres:\", df_Theatres.shape)\n",
    "print(\"df_ShowTimes:\", df_ShowTimes.shape)\n",
    "print(\"df_Reservations:\", df_Reservations.shape)\n",
    "print(\"df_Customers:\", df_Customers.shape)\n",
    "\n",
    "# Drop null and duplicate values from each data frame\n",
    "df_movie.dropna(inplace=True)\n",
    "df_movie.drop_duplicates(inplace=True)\n",
    "\n",
    "df_Theatres.dropna(inplace=True)\n",
    "df_Theatres.drop_duplicates(inplace=True)\n",
    "\n",
    "df_ShowTimes.dropna(inplace=True)\n",
    "df_ShowTimes.drop_duplicates(inplace=True)\n",
    "\n",
    "df_Reservations.dropna(inplace=True)\n",
    "df_Reservations.drop_duplicates(inplace=True)\n",
    "\n",
    "df_Customers.dropna(inplace=True)\n",
    "df_Customers.drop_duplicates(inplace=True)\n",
    "\n",
    "# Print row and column counts after dropping null and duplicate values\n",
    "print(\"\\nRow and column counts after dropping null and duplicate values:\")\n",
    "print(\"df_movie:\", df_movie.shape)\n",
    "print(\"df_Theatres:\", df_Theatres.shape)\n",
    "print(\"df_ShowTimes:\", df_ShowTimes.shape)\n",
    "print(\"df_Reservations:\", df_Reservations.shape)\n",
    "print(\"df_Customers:\", df_Customers.shape)\n",
    "\n",
    "\n"
   ]
  },
  {
   "cell_type": "code",
   "execution_count": 4,
   "metadata": {},
   "outputs": [],
   "source": [
    "# Save the reduced data to the same file\n",
    "df_movie.to_csv('/Users/tanujverma/Desktop/NEU/ADBMS/ADBMS_project/Movie.csv', index=False)\n",
    "df_Theatres.to_csv('/Users/tanujverma/Desktop/NEU/ADBMS/ADBMS_project/Theatres.csv', index=False)\n",
    "df_ShowTimes.to_csv('/Users/tanujverma/Desktop/NEU/ADBMS/ADBMS_project/Showtimes.csv', index=False)\n",
    "df_Reservations.to_csv('/Users/tanujverma/Desktop/NEU/ADBMS/ADBMS_project/Reservations.csv', index=False)\n",
    "df_Customers.to_csv('/Users/tanujverma/Desktop/NEU/ADBMS/ADBMS_project/Customers.csv', index=False)"
   ]
  },
  {
   "cell_type": "code",
   "execution_count": 5,
   "metadata": {},
   "outputs": [
    {
     "name": "stdout",
     "output_type": "stream",
     "text": [
      "Column names:\n",
      "df_movie: ['Movie_ID', 'Title', 'Release_Date', 'Genre', 'Rating', 'Duration', 'Language', 'Poster_URL']\n",
      "df_Theatres: ['Theatre_ID', 'Movie_ID', 'Name', 'Location', 'Capacity', 'Amenities']\n",
      "df_ShowTimes: ['Show_ID', 'Movie_ID', 'Theatre_ID', 'Start_Time', 'Price']\n",
      "df_Reservations: ['Reservation_ID', 'Customer_ID', 'Show_ID', 'Seats', 'DateTime']\n",
      "df_Customers: ['Customer_ID', 'Name', 'Email', 'Phone Number', 'Address', 'State', 'Password']\n"
     ]
    }
   ],
   "source": [
    "print(\"Column names:\")\n",
    "print(\"df_movie:\", list(df_movie.columns))\n",
    "print(\"df_Theatres:\", list(df_Theatres.columns))\n",
    "print(\"df_ShowTimes:\", list(df_ShowTimes.columns))\n",
    "print(\"df_Reservations:\", list(df_Reservations.columns))\n",
    "print(\"df_Customers:\", list(df_Customers.columns))"
   ]
  }
 ],
 "metadata": {
  "kernelspec": {
   "display_name": "base",
   "language": "python",
   "name": "python3"
  },
  "language_info": {
   "codemirror_mode": {
    "name": "ipython",
    "version": 3
   },
   "file_extension": ".py",
   "mimetype": "text/x-python",
   "name": "python",
   "nbconvert_exporter": "python",
   "pygments_lexer": "ipython3",
   "version": "3.9.13"
  },
  "orig_nbformat": 4,
  "vscode": {
   "interpreter": {
    "hash": "9c7ec94ec28bdd6316996f01f1330cf7bf6ba0262e1417d9592dced05c299bb0"
   }
  }
 },
 "nbformat": 4,
 "nbformat_minor": 2
}
