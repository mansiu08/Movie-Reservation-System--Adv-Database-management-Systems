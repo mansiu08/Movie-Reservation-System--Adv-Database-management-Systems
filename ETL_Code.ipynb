{
 "cells": [
  {
   "cell_type": "code",
   "execution_count": null,
   "metadata": {},
   "outputs": [],
   "source": [
    "import pandas as pd\n",
    "import csv\n",
    "\n",
    "#Read all the CSV files\n",
    "df_Movie = pd.read_csv(\"Movie.csv\")\n",
    "df_Theater = pd.read_csv(\"Theater.csv\")\n",
    "df_ShowTime = pd.read_csv(\"ShowTime.csv\")\n",
    "df_Reservation = pd.read_csv(\"Reservation.csv\")\n",
    "df_Customer = pd.read_csv(\"Customer.csv\")\n",
    "\n",
    "# Print row and column counts before dropping null and duplicate values\n",
    "print(\"Row and column counts before dropping null and duplicate values:\")\n",
    "print(\"df_Movie:\", df_Movie.shape)\n",
    "print(\"df_Theater:\", df_Theater.shape)\n",
    "print(\"df_ShowTime:\", df_ShowTime.shape)\n",
    "print(\"df_Reservation:\", df_Reservation.shape)\n",
    "print(\"df_Customer:\", df_Customer.shape)\n",
    "\n",
    "# Drop null and duplicate values from each data frame\n",
    "df_Movie.dropna(inplace=True)\n",
    "df_Movie.drop_duplicates(inplace=True)\n",
    "\n",
    "df_Theater.dropna(inplace=True)\n",
    "df_Theater.drop_duplicates(inplace=True)\n",
    "\n",
    "df_ShowTime.dropna(inplace=True)\n",
    "df_ShowTime.drop_duplicates(inplace=True)\n",
    "\n",
    "df_Reservation.dropna(inplace=True)\n",
    "df_Reservation.drop_duplicates(inplace=True)\n",
    "\n",
    "df_Customer.dropna(inplace=True)\n",
    "df_Customer.drop_duplicates(inplace=True)\n",
    "\n",
    "# Print row and column counts after dropping null and duplicate values\n",
    "print(\"\\nRow and column counts after dropping null and duplicate values:\")\n",
    "print(\"df_Movie:\", df_Movie.shape)\n",
    "print(\"df_Theater:\", df_Theater.shape)\n",
    "print(\"df_ShowTime:\", df_ShowTime.shape)\n",
    "print(\"df_Reservation:\", df_Reservation.shape)\n",
    "print(\"df_Customer:\", df_Customer.shape)\n"
   ]
  }
 ],
 "metadata": {
  "language_info": {
   "name": "python"
  },
  "orig_nbformat": 4
 },
 "nbformat": 4,
 "nbformat_minor": 2
}
